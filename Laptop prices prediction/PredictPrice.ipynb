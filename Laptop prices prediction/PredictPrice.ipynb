{
 "cells": [
  {
   "cell_type": "markdown",
   "id": "e20125c2",
   "metadata": {},
   "source": [
    "Try to build a neural network to predict price of a laptop. Will use a simple linear regression model and compare accuracy later "
   ]
  },
  {
   "cell_type": "code",
   "execution_count": 10,
   "id": "75571a56",
   "metadata": {},
   "outputs": [],
   "source": [
    "import pandas as pd \n",
    "from sklearn.model_selection import train_test_split\n",
    "from sklearn.preprocessing import OneHotEncoder\n",
    "from sklearn.compose import ColumnTransformer\n",
    "import numpy as np\n",
    "from sklearn.linear_model import LinearRegression\n",
    "from sklearn.preprocessing import PolynomialFeatures\n"
   ]
  },
  {
   "cell_type": "code",
   "execution_count": 11,
   "id": "080ca2fb",
   "metadata": {},
   "outputs": [
    {
     "name": "stdout",
     "output_type": "stream",
     "text": [
      "Index(['Company', 'TypeName', 'Inches', 'Weight', 'screen_resolution',\n",
      "       'display_type', 'processor_speed', 'processor_brand', 'processor_type',\n",
      "       'ssd_storage', 'hdd_storage', 'flash_storage', 'ram', 'os', 'Price'],\n",
      "      dtype='object')\n",
      "Company               object\n",
      "TypeName              object\n",
      "Inches               float64\n",
      "Weight                object\n",
      "screen_resolution     object\n",
      "display_type          object\n",
      "processor_speed      float64\n",
      "processor_brand       object\n",
      "processor_type        object\n",
      "ssd_storage            int64\n",
      "hdd_storage           object\n",
      "flash_storage          int64\n",
      "ram                    int64\n",
      "os                    object\n",
      "Price                float64\n",
      "dtype: object\n"
     ]
    }
   ],
   "source": [
    "df = pd.read_csv('laptop_clean_dataset.csv')\n",
    "print(df.columns)\n",
    "print(df.dtypes)"
   ]
  },
  {
   "cell_type": "markdown",
   "id": "76a72adc",
   "metadata": {},
   "source": [
    "Need to convert Weight to numerical data , also need to do one hot encoding on categorical features"
   ]
  },
  {
   "cell_type": "code",
   "execution_count": 12,
   "id": "2f2366b6",
   "metadata": {},
   "outputs": [],
   "source": [
    "df['Weight']= pd.to_numeric(df['Weight'], errors='coerce').astype('float64')"
   ]
  },
  {
   "cell_type": "code",
   "execution_count": 13,
   "id": "15b0dc66",
   "metadata": {},
   "outputs": [],
   "source": [
    "df['Weight']=df['Weight'].fillna(1.18) #from, google"
   ]
  },
  {
   "cell_type": "markdown",
   "id": "0d62f219",
   "metadata": {},
   "source": [
    "Need to make HDD storage a numerical value"
   ]
  },
  {
   "cell_type": "code",
   "execution_count": 14,
   "id": "334f9eeb",
   "metadata": {},
   "outputs": [
    {
     "name": "stdout",
     "output_type": "stream",
     "text": [
      "0          0.0\n",
      "1          0.0\n",
      "2          0.0\n",
      "3          0.0\n",
      "4          0.0\n",
      "         ...  \n",
      "1238     500.0\n",
      "1239       0.0\n",
      "1240       0.0\n",
      "1241       0.0\n",
      "1242    1024.0\n",
      "Name: hdd_storage, Length: 1243, dtype: float64\n",
      "Company               object\n",
      "TypeName              object\n",
      "Inches               float64\n",
      "Weight               float64\n",
      "screen_resolution     object\n",
      "display_type          object\n",
      "processor_speed      float64\n",
      "processor_brand       object\n",
      "processor_type        object\n",
      "ssd_storage            int64\n",
      "hdd_storage          float64\n",
      "flash_storage          int64\n",
      "ram                    int64\n",
      "os                    object\n",
      "Price                float64\n",
      "dtype: object\n"
     ]
    }
   ],
   "source": [
    "def correct_values(val):\n",
    "    val = str(val).upper().strip()\n",
    "  \n",
    "    if \"TB\" in val:\n",
    "        num = float(val.replace('TB', '').replace(' ', ''))\n",
    "        num = num * 1024\n",
    "    else:\n",
    "        num = float(val.replace(' ', ''))\n",
    "\n",
    "    return num\n",
    "\n",
    "df['hdd_storage'] = df['hdd_storage'].apply(correct_values)\n",
    "print(df['hdd_storage'])\n",
    "\n",
    "\n",
    "print(df.dtypes)"
   ]
  },
  {
   "cell_type": "markdown",
   "id": "0fe429d5",
   "metadata": {},
   "source": [
    "Many of the types are categorical values but they have more categories than 1 , so using one hot encoder here , seems helpful  "
   ]
  },
  {
   "cell_type": "code",
   "execution_count": 15,
   "id": "191a2a39",
   "metadata": {},
   "outputs": [
    {
     "name": "stdout",
     "output_type": "stream",
     "text": [
      "(1243, 151)\n",
      "      Inches  Weight  processor_speed  ssd_storage  hdd_storage  \\\n",
      "0       13.3    1.37              2.3          128          0.0   \n",
      "1       13.3    1.34              1.8            0          0.0   \n",
      "2       15.6    1.86              2.5          256          0.0   \n",
      "3       15.4    1.83              2.7          512          0.0   \n",
      "4       13.3    1.37              3.1          256          0.0   \n",
      "...      ...     ...              ...          ...          ...   \n",
      "1238    15.6    2.20              2.5            0        500.0   \n",
      "1239    14.0    1.80              2.5          128          0.0   \n",
      "1240    13.3    1.30              2.5          512          0.0   \n",
      "1241    14.0    1.50              1.6            0          0.0   \n",
      "1242    15.6    2.19              2.5            0       1024.0   \n",
      "\n",
      "      flash_storage  ram  Company_Acer  Company_Apple  Company_Asus  ...  \\\n",
      "0                 0    8             0              1             0  ...   \n",
      "1               128    8             0              1             0  ...   \n",
      "2                 0    8             0              0             0  ...   \n",
      "3                 0   16             0              1             0  ...   \n",
      "4                 0    8             0              1             0  ...   \n",
      "...             ...  ...           ...            ...           ...  ...   \n",
      "1238              0    4             0              0             1  ...   \n",
      "1239              0    4             0              0             0  ...   \n",
      "1240              0   16             0              0             0  ...   \n",
      "1241             64    2             0              0             0  ...   \n",
      "1242              0    6             0              0             0  ...   \n",
      "\n",
      "      processor_type_ Ryzen 1700  processor_type_ Xeon E3-1505M V6  \\\n",
      "0                              0                                 0   \n",
      "1                              0                                 0   \n",
      "2                              0                                 0   \n",
      "3                              0                                 0   \n",
      "4                              0                                 0   \n",
      "...                          ...                               ...   \n",
      "1238                           0                                 0   \n",
      "1239                           0                                 0   \n",
      "1240                           0                                 0   \n",
      "1241                           0                                 0   \n",
      "1242                           0                                 0   \n",
      "\n",
      "      processor_type_ Xeon E3-1535M v5  processor_type_ Xeon E3-1535M v6  \\\n",
      "0                                    0                                 0   \n",
      "1                                    0                                 0   \n",
      "2                                    0                                 0   \n",
      "3                                    0                                 0   \n",
      "4                                    0                                 0   \n",
      "...                                ...                               ...   \n",
      "1238                                 0                                 0   \n",
      "1239                                 0                                 0   \n",
      "1240                                 0                                 0   \n",
      "1241                                 0                                 0   \n",
      "1242                                 0                                 0   \n",
      "\n",
      "      os_chrome  os_linux  os_mac  os_macos  os_no  os_windows  \n",
      "0             0         0       0         1      0           0  \n",
      "1             0         0       0         1      0           0  \n",
      "2             0         0       0         0      1           0  \n",
      "3             0         0       0         1      0           0  \n",
      "4             0         0       0         1      0           0  \n",
      "...         ...       ...     ...       ...    ...         ...  \n",
      "1238          0         0       0         0      0           1  \n",
      "1239          0         0       0         0      0           1  \n",
      "1240          0         0       0         0      0           1  \n",
      "1241          0         0       0         0      0           1  \n",
      "1242          0         0       0         0      0           1  \n",
      "\n",
      "[1243 rows x 151 columns]\n",
      "(1243, 151)   (1243,)\n"
     ]
    }
   ],
   "source": [
    "\n",
    "categorical_cols = ['Company','TypeName','screen_resolution','display_type','processor_brand','processor_type','os']\n",
    "numeric_cols = ['Inches','Weight','processor_speed','ssd_storage','hdd_storage','flash_storage','ram','Price']\n",
    "\n",
    "\n",
    "Y = df['Price']\n",
    "X = pd.get_dummies(df, columns=categorical_cols, dtype=int)\n",
    "X.drop(columns=['Price'], inplace=True)\n",
    "print(X.shape)\n",
    "print(X)\n",
    "print(X.shape, ' ', Y.shape)\n"
   ]
  },
  {
   "cell_type": "markdown",
   "id": "da5de37c",
   "metadata": {},
   "source": [
    "Data is ready for usage "
   ]
  },
  {
   "cell_type": "markdown",
   "id": "cfe6e47e",
   "metadata": {},
   "source": [
    "Splitting the data "
   ]
  },
  {
   "cell_type": "code",
   "execution_count": 16,
   "id": "542a6ae7",
   "metadata": {},
   "outputs": [],
   "source": [
    "X_train , X_test , Y_train, Y_test = train_test_split(X,Y, test_size=0.15, random_state=42)"
   ]
  },
  {
   "cell_type": "code",
   "execution_count": 17,
   "id": "0df181b2",
   "metadata": {},
   "outputs": [],
   "source": [
    "import torch"
   ]
  },
  {
   "cell_type": "code",
   "execution_count": 19,
   "id": "3ab5aa09",
   "metadata": {},
   "outputs": [],
   "source": [
    "model1 = LinearRegression()\n",
    "model2 = torch.nn.Sequential(\n",
    "    torch.nn.Linear(X_train.shape[1] , 30),\n",
    "    torch.nn.ReLU(),\n",
    "    torch.nn.Linear(30,10),\n",
    "    torch.nn.ReLU(),\n",
    "    torch.nn.Linear(10,1)\n",
    ")\n",
    "model3 = torch.nn.Sequential(\n",
    "    torch.nn.Linear(X_train.shape[1] , 20),\n",
    "    torch.nn.ReLU(),\n",
    "    torch.nn.Linear(30,1)\n",
    ")\n",
    "model4 = torch.nn.Sequential(\n",
    "    torch.nn.Linear(X_train.shape[1] , 70),\n",
    "    torch.nn.ReLU(),\n",
    "    torch.nn.Linear(30,10),\n",
    "    torch.nn.ReLU(),\n",
    "    torch.nn.Linear(15,5),\n",
    "    torch.nn.ReLU(),\n",
    "    torch.nn.Linear(5,1)\n",
    ")"
   ]
  },
  {
   "cell_type": "markdown",
   "id": "5736f6af",
   "metadata": {},
   "source": [
    "Function to train model  "
   ]
  },
  {
   "cell_type": "code",
   "execution_count": null,
   "id": "696da3b2",
   "metadata": {},
   "outputs": [],
   "source": [
    "def train_one(model, train_dl, val_dl, max_epochs=500, lr=1e-3, patience=20):\n",
    "    opt = torch.optim.Adam(model.parameters(), lr=lr)\n",
    "    loss_fn =torch.nn.MSELoss()\n",
    "    best_val = float(\"inf\")\n",
    "    best_state = None\n",
    "    no_improve = 0\n",
    "\n",
    "    for epoch in range(max_epochs):\n",
    "        model.train()\n",
    "        for xb, yb in train_dl: # training mode \n",
    "            opt.zero_grad() #zero gradient\n",
    "            pred = model(xb).squeeze(1) #Predicton\n",
    "            loss = loss_fn(pred, yb) #COmpute the loss\n",
    "            loss.backward() #compute the gradients\n",
    "            opt.step()   # update the weights\n",
    "\n",
    "        model.eval() \n",
    "        val_loses=[]\n",
    "        with torch.no_grad(): # no gradient tracking\n",
    "            for xb , yb in val_dl:\n",
    "                pred = model(xb).squeeze(1)\n",
    "                val_loses.append(loss_fn(pred, yb).item())\n",
    "        val_mse = np.mean(val_loses)\n",
    "        if val_mse < best_val - 1e-6:\n",
    "            best_val = val_mse\n",
    "            best_state = {k: v.cpu().clone() for k, v in model.state_dict().items()}\n",
    "            no_improve = 0\n",
    "        else:\n",
    "            no_improve += 1\n",
    "            if no_improve >= patience:\n",
    "                break\n",
    "    if best_state is not None:\n",
    "        model.load_state_dict(best_state)\n",
    "    return np.sqrt(best_val)  # best RMSE\n",
    "\n",
    "\n"
   ]
  },
  {
   "cell_type": "code",
   "execution_count": null,
   "id": "08fbb5df",
   "metadata": {},
   "outputs": [],
   "source": []
  }
 ],
 "metadata": {
  "kernelspec": {
   "display_name": "Python 3",
   "language": "python",
   "name": "python3"
  },
  "language_info": {
   "codemirror_mode": {
    "name": "ipython",
    "version": 3
   },
   "file_extension": ".py",
   "mimetype": "text/x-python",
   "name": "python",
   "nbconvert_exporter": "python",
   "pygments_lexer": "ipython3",
   "version": "3.13.1"
  }
 },
 "nbformat": 4,
 "nbformat_minor": 5
}
