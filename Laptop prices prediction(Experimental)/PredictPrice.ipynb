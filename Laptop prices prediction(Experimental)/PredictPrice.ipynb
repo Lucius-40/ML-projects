{
 "cells": [
  {
   "cell_type": "markdown",
   "id": "e20125c2",
   "metadata": {},
   "source": [
    "Try to build a neural network to predict price of a laptop. Will use a simple linear regression model and compare accuracy later "
   ]
  },
  {
   "cell_type": "code",
   "execution_count": 91,
   "id": "75571a56",
   "metadata": {},
   "outputs": [],
   "source": [
    "import pandas as pd \n",
    "from sklearn.model_selection import train_test_split, KFold\n",
    "from sklearn.preprocessing import OneHotEncoder\n",
    "from sklearn.compose import ColumnTransformer\n",
    "import numpy as np\n",
    "from sklearn.linear_model import LinearRegression\n",
    "from sklearn.preprocessing import PolynomialFeatures\n",
    "import torch\n",
    "from torch.utils.data import Dataset, DataLoader, Subset\n",
    "from sklearn.metrics import mean_squared_error\n",
    "import seaborn as sns\n",
    "import matplotlib.pyplot as plt\n",
    "from sklearn.preprocessing import StandardScaler\n"
   ]
  },
  {
   "cell_type": "code",
   "execution_count": 92,
   "id": "080ca2fb",
   "metadata": {},
   "outputs": [
    {
     "name": "stdout",
     "output_type": "stream",
     "text": [
      "Index(['Company', 'TypeName', 'Inches', 'Weight', 'screen_resolution',\n",
      "       'display_type', 'processor_speed', 'processor_brand', 'processor_type',\n",
      "       'ssd_storage', 'hdd_storage', 'flash_storage', 'ram', 'os', 'Price'],\n",
      "      dtype='object')\n",
      "Company               object\n",
      "TypeName              object\n",
      "Inches               float64\n",
      "Weight                object\n",
      "screen_resolution     object\n",
      "display_type          object\n",
      "processor_speed      float64\n",
      "processor_brand       object\n",
      "processor_type        object\n",
      "ssd_storage            int64\n",
      "hdd_storage           object\n",
      "flash_storage          int64\n",
      "ram                    int64\n",
      "os                    object\n",
      "Price                float64\n",
      "dtype: object\n"
     ]
    }
   ],
   "source": [
    "df = pd.read_csv('laptop_clean_dataset.csv')\n",
    "print(df.columns)\n",
    "print(df.dtypes)"
   ]
  },
  {
   "cell_type": "markdown",
   "id": "76a72adc",
   "metadata": {},
   "source": [
    "Need to convert Weight to numerical data , also need to do one hot encoding on categorical features"
   ]
  },
  {
   "cell_type": "code",
   "execution_count": 93,
   "id": "2f2366b6",
   "metadata": {},
   "outputs": [],
   "source": [
    "df['Weight']= pd.to_numeric(df['Weight'], errors='coerce').astype('float64')"
   ]
  },
  {
   "cell_type": "code",
   "execution_count": 94,
   "id": "15b0dc66",
   "metadata": {},
   "outputs": [],
   "source": [
    "df['Weight']=df['Weight'].fillna(1.18) #from, google"
   ]
  },
  {
   "cell_type": "markdown",
   "id": "0d62f219",
   "metadata": {},
   "source": [
    "Need to make HDD storage a numerical value"
   ]
  },
  {
   "cell_type": "code",
   "execution_count": 95,
   "id": "334f9eeb",
   "metadata": {},
   "outputs": [
    {
     "name": "stdout",
     "output_type": "stream",
     "text": [
      "0          0.0\n",
      "1          0.0\n",
      "2          0.0\n",
      "3          0.0\n",
      "4          0.0\n",
      "         ...  \n",
      "1238     500.0\n",
      "1239       0.0\n",
      "1240       0.0\n",
      "1241       0.0\n",
      "1242    1024.0\n",
      "Name: hdd_storage, Length: 1243, dtype: float64\n",
      "Company               object\n",
      "TypeName              object\n",
      "Inches               float64\n",
      "Weight               float64\n",
      "screen_resolution     object\n",
      "display_type          object\n",
      "processor_speed      float64\n",
      "processor_brand       object\n",
      "processor_type        object\n",
      "ssd_storage            int64\n",
      "hdd_storage          float64\n",
      "flash_storage          int64\n",
      "ram                    int64\n",
      "os                    object\n",
      "Price                float64\n",
      "dtype: object\n"
     ]
    }
   ],
   "source": [
    "def correct_values(val):\n",
    "    val = str(val).upper().strip()\n",
    "  \n",
    "    if \"TB\" in val:\n",
    "        num = float(val.replace('TB', '').replace(' ', ''))\n",
    "        num = num * 1024\n",
    "    else:\n",
    "        num = float(val.replace(' ', ''))\n",
    "\n",
    "    return num\n",
    "\n",
    "df['hdd_storage'] = df['hdd_storage'].apply(correct_values)\n",
    "print(df['hdd_storage'])\n",
    "\n",
    "\n",
    "print(df.dtypes)"
   ]
  },
  {
   "cell_type": "markdown",
   "id": "0fe429d5",
   "metadata": {},
   "source": [
    "Many of the types are categorical values but they have more categories than 1 , so using one hot encoder here , seems helpful  "
   ]
  },
  {
   "cell_type": "code",
   "execution_count": 96,
   "id": "191a2a39",
   "metadata": {},
   "outputs": [
    {
     "name": "stdout",
     "output_type": "stream",
     "text": [
      "(1243, 151)\n",
      "      Inches  Weight  processor_speed  ssd_storage  hdd_storage  \\\n",
      "0       13.3    1.37              2.3          128          0.0   \n",
      "1       13.3    1.34              1.8            0          0.0   \n",
      "2       15.6    1.86              2.5          256          0.0   \n",
      "3       15.4    1.83              2.7          512          0.0   \n",
      "4       13.3    1.37              3.1          256          0.0   \n",
      "...      ...     ...              ...          ...          ...   \n",
      "1238    15.6    2.20              2.5            0        500.0   \n",
      "1239    14.0    1.80              2.5          128          0.0   \n",
      "1240    13.3    1.30              2.5          512          0.0   \n",
      "1241    14.0    1.50              1.6            0          0.0   \n",
      "1242    15.6    2.19              2.5            0       1024.0   \n",
      "\n",
      "      flash_storage  ram  Company_Acer  Company_Apple  Company_Asus  ...  \\\n",
      "0                 0    8             0              1             0  ...   \n",
      "1               128    8             0              1             0  ...   \n",
      "2                 0    8             0              0             0  ...   \n",
      "3                 0   16             0              1             0  ...   \n",
      "4                 0    8             0              1             0  ...   \n",
      "...             ...  ...           ...            ...           ...  ...   \n",
      "1238              0    4             0              0             1  ...   \n",
      "1239              0    4             0              0             0  ...   \n",
      "1240              0   16             0              0             0  ...   \n",
      "1241             64    2             0              0             0  ...   \n",
      "1242              0    6             0              0             0  ...   \n",
      "\n",
      "      processor_type_ Ryzen 1700  processor_type_ Xeon E3-1505M V6  \\\n",
      "0                              0                                 0   \n",
      "1                              0                                 0   \n",
      "2                              0                                 0   \n",
      "3                              0                                 0   \n",
      "4                              0                                 0   \n",
      "...                          ...                               ...   \n",
      "1238                           0                                 0   \n",
      "1239                           0                                 0   \n",
      "1240                           0                                 0   \n",
      "1241                           0                                 0   \n",
      "1242                           0                                 0   \n",
      "\n",
      "      processor_type_ Xeon E3-1535M v5  processor_type_ Xeon E3-1535M v6  \\\n",
      "0                                    0                                 0   \n",
      "1                                    0                                 0   \n",
      "2                                    0                                 0   \n",
      "3                                    0                                 0   \n",
      "4                                    0                                 0   \n",
      "...                                ...                               ...   \n",
      "1238                                 0                                 0   \n",
      "1239                                 0                                 0   \n",
      "1240                                 0                                 0   \n",
      "1241                                 0                                 0   \n",
      "1242                                 0                                 0   \n",
      "\n",
      "      os_chrome  os_linux  os_mac  os_macos  os_no  os_windows  \n",
      "0             0         0       0         1      0           0  \n",
      "1             0         0       0         1      0           0  \n",
      "2             0         0       0         0      1           0  \n",
      "3             0         0       0         1      0           0  \n",
      "4             0         0       0         1      0           0  \n",
      "...         ...       ...     ...       ...    ...         ...  \n",
      "1238          0         0       0         0      0           1  \n",
      "1239          0         0       0         0      0           1  \n",
      "1240          0         0       0         0      0           1  \n",
      "1241          0         0       0         0      0           1  \n",
      "1242          0         0       0         0      0           1  \n",
      "\n",
      "[1243 rows x 151 columns]\n",
      "(1243, 151)   (1243,)\n"
     ]
    }
   ],
   "source": [
    "\n",
    "categorical_cols = ['Company','TypeName','screen_resolution','display_type','processor_brand','processor_type','os']\n",
    "numeric_cols = ['Inches','Weight','processor_speed','ssd_storage','hdd_storage','flash_storage','ram','Price']\n",
    "\n",
    "\n",
    "Y = df['Price']\n",
    "X = pd.get_dummies(df, columns=categorical_cols, dtype=int)\n",
    "X.drop(columns=['Price'], inplace=True)\n",
    "print(X.shape)\n",
    "print(X)\n",
    "print(X.shape, ' ', Y.shape)\n"
   ]
  },
  {
   "cell_type": "markdown",
   "id": "da5de37c",
   "metadata": {},
   "source": [
    "Data is ready for usage "
   ]
  },
  {
   "cell_type": "markdown",
   "id": "cfe6e47e",
   "metadata": {},
   "source": [
    "Splitting the data "
   ]
  },
  {
   "cell_type": "code",
   "execution_count": 97,
   "id": "542a6ae7",
   "metadata": {},
   "outputs": [],
   "source": [
    "X_train , X_test , Y_train, Y_test = train_test_split(X,Y, test_size=0.15, random_state=42)\n",
    "\n",
    "#Reset indices\n",
    "X_train = X_train.reset_index(drop=True)\n",
    "Y_train = Y_train.reset_index(drop=True)\n",
    "X_test = X_test.reset_index(drop=True)\n",
    "Y_test = Y_test.reset_index(drop=True)\n",
    "\n",
    "scaler = StandardScaler()\n",
    "X_train_scaled = scaler.fit_transform(X_train)\n",
    "X_test_scaled = scaler.transform(X_test)\n"
   ]
  },
  {
   "cell_type": "code",
   "execution_count": 98,
   "id": "3ab5aa09",
   "metadata": {},
   "outputs": [],
   "source": [
    "model1 = LinearRegression()\n",
    "\n",
    "def model2():\n",
    "    return torch.nn.Sequential(\n",
    "    torch.nn.Linear(X_train.shape[1] , 30),\n",
    "    torch.nn.ReLU(),\n",
    "    torch.nn.Linear(30,10),\n",
    "    torch.nn.ReLU(),\n",
    "    torch.nn.Linear(10,1)\n",
    ")\n",
    "def model3():\n",
    "    return  torch.nn.Sequential(\n",
    "    torch.nn.Linear(X_train.shape[1] , 20),\n",
    "    torch.nn.ReLU(),\n",
    "    torch.nn.Linear(20,1)\n",
    ")\n",
    "def model4() :\n",
    "    return  torch.nn.Sequential(\n",
    "    torch.nn.Linear(X_train.shape[1] , 70),\n",
    "    torch.nn.ReLU(),\n",
    "    torch.nn.Linear(70,30),\n",
    "    torch.nn.ReLU(),\n",
    "    torch.nn.Linear(30,5),\n",
    "    torch.nn.ReLU(),\n",
    "    torch.nn.Linear(5,1)\n",
    ")\n",
    "\n",
    "model_class = [ model2, model3 , model4]\n",
    "model_names = [\"2 layers\", \"1 layer\", '3 layers']"
   ]
  },
  {
   "cell_type": "markdown",
   "id": "5736f6af",
   "metadata": {},
   "source": [
    "Function to train model  "
   ]
  },
  {
   "cell_type": "code",
   "execution_count": 99,
   "id": "696da3b2",
   "metadata": {},
   "outputs": [
    {
     "name": "stdout",
     "output_type": "stream",
     "text": [
      "RangeIndex(start=0, stop=1056, step=1)\n",
      "RangeIndex(start=0, stop=1056, step=1)\n"
     ]
    }
   ],
   "source": [
    "def train_one(model, train_dl, val_dl, max_epochs=500, patience=20):\n",
    "    opt = torch.optim.Adam(model.parameters())\n",
    "    loss_fn =torch.nn.MSELoss()\n",
    "    best_val = float(\"inf\")\n",
    "    best_state = None\n",
    "    no_improve = 0\n",
    "\n",
    "    for epoch in range(max_epochs):\n",
    "        model.train()\n",
    "        for xb, yb in train_dl: # training mode \n",
    "            opt.zero_grad() #zero gradient\n",
    "            pred = model(xb).squeeze(1) #Predicton\n",
    "            loss = loss_fn(pred, yb) #COmpute the loss\n",
    "            loss.backward() #compute the gradients\n",
    "            opt.step()   # update the weights\n",
    "\n",
    "        model.eval() \n",
    "        val_loses=[]\n",
    "        with torch.no_grad(): # no gradient tracking\n",
    "            for xb , yb in val_dl:\n",
    "                pred = model(xb).squeeze(1) #predict with current weights\n",
    "                val_loses.append(loss_fn(pred, yb).item()) #add loss to prediction list\n",
    "        val_mse = np.mean(val_loses) # find mean of the list\n",
    "        if val_mse < best_val - 1e-6: \n",
    "            best_val = val_mse\n",
    "            best_state = {k: v.cpu().clone() for k, v in model.state_dict().items()}\n",
    "            no_improve = 0\n",
    "        else:\n",
    "            no_improve += 1\n",
    "            if no_improve >= patience:\n",
    "                break\n",
    "    if best_state is not None:\n",
    "        model.load_state_dict(best_state)\n",
    "    return np.sqrt(best_val)  # best RMSE\n",
    "\n",
    "print(X_train.index)\n",
    "print(Y_train.index)\n",
    "\n",
    "\n"
   ]
  },
  {
   "cell_type": "markdown",
   "id": "5840c3eb",
   "metadata": {},
   "source": [
    "Since data is scarce, we use a K - fold cross validation check instead of the usual split of training , cross validatin and training data "
   ]
  },
  {
   "cell_type": "code",
   "execution_count": 100,
   "id": "ddcd7158",
   "metadata": {},
   "outputs": [],
   "source": [
    "class MyDataset(Dataset):\n",
    "    def __init__(self, X, Y):\n",
    "        self.X = torch.tensor(X, dtype=torch.float32)\n",
    "        # Convert pandas Series to numpy array if needed\n",
    "        if hasattr(Y, \"to_numpy\"):\n",
    "            Y = Y.to_numpy()\n",
    "        self.Y = torch.tensor(Y, dtype=torch.float32)\n",
    "    def __len__(self):\n",
    "        return len(self.X)\n",
    "    def __getitem__(self, idx):\n",
    "        return self.X[idx], self.Y[idx]"
   ]
  },
  {
   "cell_type": "markdown",
   "id": "c5f7dcc2",
   "metadata": {},
   "source": [
    "K FOLD cross validation :"
   ]
  },
  {
   "cell_type": "code",
   "execution_count": 101,
   "id": "92fa9274",
   "metadata": {},
   "outputs": [
    {
     "name": "stdout",
     "output_type": "stream",
     "text": [
      "Evaluating  2 layers\n",
      "Average RMSE for model  2 layers  :  20314.67522528609\n",
      "Evaluating  1 layer\n",
      "Average RMSE for model  1 layer  :  42236.17624553655\n",
      "Evaluating  3 layers\n",
      "Average RMSE for model  3 layers  :  18647.106398289805\n"
     ]
    }
   ],
   "source": [
    "k = 8 \n",
    "kf = KFold(n_splits=k , shuffle=True, random_state=2)\n",
    "fold_root_mean_sq_vals=[]\n",
    "\n",
    "for model_c , na in zip(model_class, model_names):\n",
    "    print(\"Evaluating \" , na)\n",
    "    foldMSE=[]\n",
    "    res={}\n",
    "    for fold , (train_indices, val_indices) in enumerate(kf.split(X_train_scaled)):\n",
    "        X_tr, X_val = X_train_scaled[train_indices], X_train_scaled[val_indices]\n",
    "        Y_tr, Y_val = Y_train[train_indices], Y_train[val_indices]\n",
    "\n",
    "        train_dataset = MyDataset(X_tr, Y_tr)\n",
    "        val_dataset = MyDataset(X_val, Y_val)\n",
    "        #data loaders :\n",
    "        train_dl = DataLoader(train_dataset, batch_size=32, shuffle=True)\n",
    "        val_dl = DataLoader(val_dataset, batch_size=32, shuffle=False)\n",
    "\n",
    "        #Fresh model instance\n",
    "        m = model_c()\n",
    "\n",
    "        rmse = train_one(m, train_dl, val_dl,max_epochs=500, patience=20)\n",
    "        foldMSE.append(rmse)\n",
    "    avg_rmse = np.mean(foldMSE)\n",
    "    res[na] = avg_rmse\n",
    "    print(\"Average RMSE for model \",na, \" : \", avg_rmse)\n",
    "\n",
    "    \n",
    "\n"
   ]
  },
  {
   "cell_type": "code",
   "execution_count": 102,
   "id": "d462f43f",
   "metadata": {},
   "outputs": [
    {
     "name": "stdout",
     "output_type": "stream",
     "text": [
      "9270.72 324954.72 60683.63844545454\n"
     ]
    }
   ],
   "source": [
    "print(Y_train.min(), Y_train.max(), Y_train.mean())"
   ]
  },
  {
   "cell_type": "code",
   "execution_count": 103,
   "id": "8e5a8415",
   "metadata": {},
   "outputs": [
    {
     "name": "stdout",
     "output_type": "stream",
     "text": [
      "3 layered model RMSE :  tensor(17824.8848)\n"
     ]
    },
    {
     "name": "stderr",
     "output_type": "stream",
     "text": [
      "C:\\Users\\tanji\\AppData\\Local\\Temp\\ipykernel_21008\\309979662.py:36: DeprecationWarning: __array_wrap__ must accept context and return_scalar arguments (positionally) in the future. (Deprecated NumPy 2.0)\n",
      "  se = np.sqrt(mse)\n"
     ]
    }
   ],
   "source": [
    "X_test_tensor = torch.tensor(X_test_scaled, dtype=torch.float32)\n",
    "Y_test_tensor = torch.tensor(Y_test, dtype=torch.float32)\n",
    "\n",
    "X_train_tensor = torch.tensor(X_train_scaled, dtype=torch.float32)\n",
    "Y_train_tensor = torch.tensor(Y_train, dtype=torch.float32)\n",
    "\n",
    "\n",
    "\n",
    "# Create a Dataset and DataLoader\n",
    "full_dataset = torch.utils.data.TensorDataset(X_train_tensor, Y_train_tensor)\n",
    "full_loader = torch.utils.data.DataLoader(full_dataset, batch_size=32, shuffle=True)\n",
    "\n",
    "# Training loop\n",
    "def train_full_model(model, loader, epochs=500, lr=1e-3):\n",
    "    opt = torch.optim.Adam(model.parameters(), lr=lr)\n",
    "    loss_fn = torch.nn.MSELoss()\n",
    "    for epoch in range(epochs):\n",
    "        model.train()\n",
    "        for xb, yb in loader:\n",
    "            opt.zero_grad()\n",
    "            pred = model(xb).squeeze(1)\n",
    "            loss = loss_fn(pred, yb)\n",
    "            loss.backward()\n",
    "            opt.step()\n",
    "    return model\n",
    "\n",
    "# Train the model\n",
    "neural_model = model4()\n",
    "neural_model = train_full_model(neural_model, full_loader, epochs=500, lr=1e-3)\n",
    "\n",
    "\n",
    "neural_model.eval()\n",
    "with torch.no_grad():\n",
    "    p=neural_model(X_test_tensor).squeeze(1)\n",
    "    mse = torch.mean((p - Y_test_tensor)**2)\n",
    "    se = np.sqrt(mse)\n",
    "print(\"3 layered model RMSE : \", se)"
   ]
  },
  {
   "cell_type": "code",
   "execution_count": 104,
   "id": "460430d7",
   "metadata": {},
   "outputs": [
    {
     "name": "stdout",
     "output_type": "stream",
     "text": [
      "Linear regression model pediction :  18433.341390593614\n"
     ]
    }
   ],
   "source": [
    "model1.fit(X_train_scaled, Y_train)\n",
    "preds = model1.predict(X_test_scaled)\n",
    "rms = np.sqrt(np.mean((preds-Y_test)**2))\n",
    "print(\"Linear regression model pediction : \", rms)\n"
   ]
  },
  {
   "cell_type": "markdown",
   "id": "6e421a89",
   "metadata": {},
   "source": [
    "plotting the results :"
   ]
  },
  {
   "cell_type": "code",
   "execution_count": 105,
   "id": "975a4247",
   "metadata": {},
   "outputs": [
    {
     "data": {
      "image/png": "[encoded data removed]",
      "text/plain": [
       "<Figure size 640x480 with 1 Axes>"
      ]
     },
     "metadata": {},
     "output_type": "display_data"
    }
   ],
   "source": [
    "import seaborn as sns\n",
    "import matplotlib.pyplot as plt\n",
    "import numpy as np\n",
    "\n",
    "# Assume preds and Y_test are defined\n",
    "plot_df = pd.DataFrame({'Actual': Y_test, 'Predicted': preds})\n",
    "\n",
    "sns.scatterplot(x='Actual', y='Predicted', data=plot_df)\n",
    "plt.plot([Y_test.min(), Y_test.max()], [Y_test.min(), Y_test.max()], 'r--', label='Perfect Prediction')\n",
    "plt.title('Actual vs Predicted Prices using LR')\n",
    "plt.xlabel('Actual Price')\n",
    "plt.ylabel('Predicted Price')\n",
    "plt.legend()\n",
    "plt.show()"
   ]
  },
  {
   "cell_type": "code",
   "execution_count": 106,
   "id": "6e9c90fd",
   "metadata": {},
   "outputs": [
    {
     "data": {
      "image/png": "[encoded data removed]",
      "text/plain": [
       "<Figure size 640x480 with 1 Axes>"
      ]
     },
     "metadata": {},
     "output_type": "display_data"
    }
   ],
   "source": [
    "plot_df = pd.DataFrame({'Actual': Y_test, 'Predicted': p})\n",
    "\n",
    "sns.scatterplot(x='Actual', y='Predicted', data=plot_df)\n",
    "plt.plot([Y_test.min(), Y_test.max()], [Y_test.min(), Y_test.max()], 'r--', label='Perfect Prediction')\n",
    "plt.title('Actual vs Predicted Prices using neural')\n",
    "plt.xlabel('Actual Price')\n",
    "plt.ylabel('Predicted Price')\n",
    "plt.legend()\n",
    "plt.show()"
   ]
  },
  {
   "cell_type": "markdown",
   "id": "116535be",
   "metadata": {},
   "source": [
    "RMSE for the training set and the test set :|"
   ]
  },
  {
   "cell_type": "code",
   "execution_count": 107,
   "id": "1ab19919",
   "metadata": {},
   "outputs": [
    {
     "name": "stdout",
     "output_type": "stream",
     "text": [
      "Neural Net RMSE (Train): 12558.6611328125\n",
      "Neural Net RMSE (Test): 17824.884765625\n"
     ]
    },
    {
     "name": "stderr",
     "output_type": "stream",
     "text": [
      "C:\\Users\\tanji\\AppData\\Local\\Temp\\ipykernel_21008\\2045697010.py:6: DeprecationWarning: __array_wrap__ must accept context and return_scalar arguments (positionally) in the future. (Deprecated NumPy 2.0)\n",
      "  train_rmse = np.sqrt(train_mse)\n",
      "C:\\Users\\tanji\\AppData\\Local\\Temp\\ipykernel_21008\\2045697010.py:13: DeprecationWarning: __array_wrap__ must accept context and return_scalar arguments (positionally) in the future. (Deprecated NumPy 2.0)\n",
      "  test_rmse = np.sqrt(test_mse)\n"
     ]
    }
   ],
   "source": [
    "# RMSE for training set\n",
    "neural_model.eval()\n",
    "with torch.no_grad():\n",
    "    train_preds = neural_model(X_train_tensor).squeeze(1)\n",
    "    train_mse = torch.mean((train_preds - Y_train_tensor) ** 2)\n",
    "    train_rmse = np.sqrt(train_mse)\n",
    "    print(\"Neural Net RMSE (Train):\", train_rmse.item())\n",
    "\n",
    "# RMSE for test set (already computed above)\n",
    "with torch.no_grad():\n",
    "    test_preds = neural_model(X_test_tensor).squeeze(1)\n",
    "    test_mse = torch.mean((test_preds - Y_test_tensor) ** 2)\n",
    "    test_rmse = np.sqrt(test_mse)\n",
    "    print(\"Neural Net RMSE (Test):\", test_rmse.item())"
   ]
  },
  {
   "cell_type": "markdown",
   "id": "8e19d1c4",
   "metadata": {},
   "source": [
    "for linear reg model :"
   ]
  },
  {
   "cell_type": "code",
   "execution_count": 110,
   "id": "7ec08141",
   "metadata": {},
   "outputs": [
    {
     "name": "stdout",
     "output_type": "stream",
     "text": [
      "Linear Regression RMSE (Train): 15438.093010935565\n",
      "Linear Regression RMSE (Test): 18433.341390593614\n"
     ]
    }
   ],
   "source": [
    "# Fit the linear regression model\n",
    "model1.fit(X_train_scaled, Y_train)\n",
    "\n",
    "# Predictions for training set\n",
    "train_preds_lr = model1.predict(X_train_scaled)\n",
    "train_rmse_lr = np.sqrt(np.mean((train_preds_lr - Y_train) ** 2))\n",
    "print(\"Linear Regression RMSE (Train):\", train_rmse_lr)\n",
    "\n",
    "# Predictions for test set\n",
    "test_preds_lr = model1.predict(X_test_scaled)\n",
    "test_rmse_lr = np.sqrt(np.mean((test_preds_lr - Y_test) ** 2))\n",
    "print(\"Linear Regression RMSE (Test):\", test_rmse_lr)"
   ]
  },
  {
   "cell_type": "markdown",
   "id": "9c41a887",
   "metadata": {},
   "source": [
    "A comparison "
   ]
  },
  {
   "cell_type": "code",
   "execution_count": 111,
   "id": "689ad02d",
   "metadata": {},
   "outputs": [
    {
     "name": "stdout",
     "output_type": "stream",
     "text": [
      "     Actual Price  Neural Net Prediction  Linear Regression Prediction\n",
      "185   101232.0000           84179.984375                  76741.110771\n",
      "78    110017.8720          116808.609375                 118404.085281\n",
      "55     79014.2400           73616.546875                  63440.154823\n",
      "137    22111.2000           21288.505859                  22885.954035\n",
      "161    79653.6000           90867.468750                  91484.732671\n",
      "15     52054.5600           46064.953125                  49643.342879\n",
      "75     71847.0144           83881.390625                  77182.464714\n",
      "154    44701.9200           52616.011719                  63660.662851\n",
      "122    38378.6496           26340.875000                  33946.806730\n",
      "175    20986.9920           26269.976562                  24311.235572\n",
      "158    35111.5200           47639.429688                  54775.326287\n",
      "42    137995.2000          109679.804688                  92755.811252\n",
      "165    29783.5200           26270.574219                  29892.071838\n",
      "30     41771.5200           36730.312500                  43324.652221\n",
      "51     51095.5200           49412.093750                  48076.387405\n",
      "16     15930.7200           15754.015625                  17092.962895\n",
      "166    79866.7200           90271.210938                  81674.875692\n",
      "177    50669.2800           48425.843750                  50070.976583\n",
      "85     18434.3472           23346.423828                  15817.927872\n",
      "19     49497.1200           48201.632812                  60346.180590\n"
     ]
    }
   ],
   "source": [
    "np.random.seed(42)  # for reproducibility\n",
    "\n",
    "# Get predictions\n",
    "neural_preds = neural_model(X_test_tensor).squeeze(1).detach().numpy()\n",
    "linear_preds = model1.predict(X_test_scaled)\n",
    "\n",
    "# Create DataFrame\n",
    "results_df = pd.DataFrame({\n",
    "    'Actual Price': Y_test.values,\n",
    "    'Neural Net Prediction': neural_preds,\n",
    "    'Linear Regression Prediction': linear_preds\n",
    "})\n",
    "\n",
    "# Sample 20 random rows\n",
    "sample_df = results_df.sample(n=20, random_state=42)\n",
    "print(sample_df)"
   ]
  },
  {
   "cell_type": "markdown",
   "id": "8cb485fd",
   "metadata": {},
   "source": [
    "Mean Absolute Error "
   ]
  },
  {
   "cell_type": "code",
   "execution_count": 113,
   "id": "852320ab",
   "metadata": {},
   "outputs": [
    {
     "name": "stdout",
     "output_type": "stream",
     "text": [
      "Neural Net MAE: 11499.017298703313\n",
      "Linear Regression MAE: 12486.722508251094\n",
      "Neural Net MAPE (%): 19.071305487822173\n",
      "Linear Regression MAPE (%): 21.796762441471714\n"
     ]
    }
   ],
   "source": [
    "mae_neural = np.mean(np.abs(neural_preds - Y_test.values))\n",
    "mae_linear = np.mean(np.abs(linear_preds - Y_test.values))\n",
    "print(\"Neural Net MAE:\", mae_neural)\n",
    "print(\"Linear Regression MAE:\", mae_linear)\n",
    "\n",
    "# percentage :\n",
    "\n",
    "mape_neural = np.mean(np.abs((neural_preds - Y_test.values) / Y_test.values)) * 100\n",
    "mape_linear = np.mean(np.abs((linear_preds - Y_test.values) / Y_test.values)) * 100\n",
    "print(\"Neural Net MAPE (%):\", mape_neural)\n",
    "print(\"Linear Regression MAPE (%):\", mape_linear)"
   ]
  },
  {
   "cell_type": "markdown",
   "id": "778f9172",
   "metadata": {},
   "source": [
    "Remarks : Not very good , but not poor either I guess, mainly wanted to build a neural network from scratch. Will try to do a better job with this data set and decision trees later "
   ]
  },
  {
   "cell_type": "markdown",
   "id": "901d16c5",
   "metadata": {},
   "source": []
  }
 ],
 "metadata": {
  "kernelspec": {
   "display_name": "Python 3",
   "language": "python",
   "name": "python3"
  },
  "language_info": {
   "codemirror_mode": {
    "name": "ipython",
    "version": 3
   },
   "file_extension": ".py",
   "mimetype": "text/x-python",
   "name": "python",
   "nbconvert_exporter": "python",
   "pygments_lexer": "ipython3",
   "version": "3.13.1"
  }
 },
 "nbformat": 4,
 "nbformat_minor": 5
}
