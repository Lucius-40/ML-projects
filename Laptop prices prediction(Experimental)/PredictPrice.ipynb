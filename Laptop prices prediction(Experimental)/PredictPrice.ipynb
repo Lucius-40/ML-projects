{
 "cells": [
  {
   "cell_type": "markdown",
   "id": "e20125c2",
   "metadata": {},
   "source": [
    "Try to build a neural network to predict price of a laptop. Will use a simple linear regression model and compare accuracy later "
   ]
  },
  {
   "cell_type": "code",
   "execution_count": 13,
   "id": "75571a56",
   "metadata": {},
   "outputs": [],
   "source": [
    "import pandas as pd \n",
    "from sklearn.model_selection import train_test_split, KFold\n",
    "from sklearn.preprocessing import OneHotEncoder\n",
    "from sklearn.compose import ColumnTransformer\n",
    "import numpy as np\n",
    "from sklearn.linear_model import LinearRegression\n",
    "from sklearn.preprocessing import PolynomialFeatures\n",
    "import torch\n",
    "from torch.utils.data import Dataset, DataLoader, Subset\n",
    "from sklearn.metrics import mean_squared_error\n",
    "import seaborn as sns\n",
    "import matplotlib.pyplot as plt\n",
    "from sklearn.preprocessing import StandardScaler\n"
   ]
  },
  {
   "cell_type": "markdown",
   "id": "cfe6e47e",
   "metadata": {},
   "source": [
    "Splitting the data "
   ]
  },
  {
   "cell_type": "code",
   "execution_count": 14,
   "id": "542a6ae7",
   "metadata": {},
   "outputs": [],
   "source": [
    "X_train = pd.read_csv('X_train_pre.csv')\n",
    "y_train = pd.read_csv('y_train_pre.csv')\n",
    "\n",
    "X_test = pd.read_csv('X_test_pre.csv')\n",
    "y_test = pd.read_csv('y_test_pre.csv')\n",
    "\n"
   ]
  },
  {
   "cell_type": "code",
   "execution_count": 15,
   "id": "3ab5aa09",
   "metadata": {},
   "outputs": [],
   "source": [
    "model1 = LinearRegression()\n",
    "\n",
    "def model2():\n",
    "    return torch.nn.Sequential(\n",
    "    torch.nn.Linear(X_train.shape[1] , 30),\n",
    "    torch.nn.ReLU(),\n",
    "    torch.nn.Linear(30,10),\n",
    "    torch.nn.ReLU(),\n",
    "    torch.nn.Linear(10,1)\n",
    ")\n",
    "def model3():\n",
    "    return  torch.nn.Sequential(\n",
    "    torch.nn.Linear(X_train.shape[1] , 20),\n",
    "    torch.nn.ReLU(),\n",
    "    torch.nn.Linear(20,1)\n",
    ")\n",
    "def model4() :\n",
    "    return  torch.nn.Sequential(\n",
    "    torch.nn.Linear(X_train.shape[1] , 70),\n",
    "    torch.nn.ReLU(),\n",
    "    torch.nn.Linear(70,30),\n",
    "    torch.nn.ReLU(),\n",
    "    torch.nn.Linear(30,5),\n",
    "    torch.nn.ReLU(),\n",
    "    torch.nn.Linear(5,1)\n",
    ")\n",
    "\n",
    "model_class = [ model2, model3 , model4]\n",
    "model_names = [\"2 layers\", \"1 layer\", '3 layers']"
   ]
  },
  {
   "cell_type": "markdown",
   "id": "5736f6af",
   "metadata": {},
   "source": [
    "Function to train model  "
   ]
  },
  {
   "cell_type": "code",
   "execution_count": 16,
   "id": "696da3b2",
   "metadata": {},
   "outputs": [
    {
     "name": "stdout",
     "output_type": "stream",
     "text": [
      "RangeIndex(start=0, stop=1082, step=1)\n",
      "RangeIndex(start=0, stop=1082, step=1)\n"
     ]
    }
   ],
   "source": [
    "def train_one(model, train_dl, val_dl, max_epochs=500, patience=20):\n",
    "    opt = torch.optim.Adam(model.parameters())\n",
    "    loss_fn =torch.nn.MSELoss()\n",
    "    best_val = float(\"inf\")\n",
    "    best_state = None\n",
    "    no_improve = 0\n",
    "\n",
    "    for epoch in range(max_epochs):\n",
    "        model.train()\n",
    "        for xb, yb in train_dl: # training mode \n",
    "            opt.zero_grad() #zero gradient\n",
    "            pred = model(xb).squeeze(1) #Predicton\n",
    "            loss = loss_fn(pred, yb) #COmpute the loss\n",
    "            loss.backward() #compute the gradients\n",
    "            opt.step()   # update the weights\n",
    "\n",
    "        model.eval() \n",
    "        val_loses=[]\n",
    "        with torch.no_grad(): # no gradient tracking\n",
    "            for xb , yb in val_dl:\n",
    "                pred = model(xb).squeeze(1) #predict with current weights\n",
    "                val_loses.append(loss_fn(pred, yb).item()) #add loss to prediction list\n",
    "        val_mse = np.mean(val_loses) # find mean of the list\n",
    "        if val_mse < best_val - 1e-6: \n",
    "            best_val = val_mse\n",
    "            best_state = {k: v.cpu().clone() for k, v in model.state_dict().items()}\n",
    "            no_improve = 0\n",
    "        else:\n",
    "            no_improve += 1\n",
    "            if no_improve >= patience:\n",
    "                break\n",
    "    if best_state is not None:\n",
    "        model.load_state_dict(best_state)\n",
    "    return np.sqrt(best_val)  # best RMSE\n",
    "\n",
    "print(X_train.index)\n",
    "print(y_train.index)\n",
    "\n",
    "\n"
   ]
  },
  {
   "cell_type": "code",
   "execution_count": 17,
   "id": "8e5a8415",
   "metadata": {},
   "outputs": [
    {
     "name": "stdout",
     "output_type": "stream",
     "text": [
      "3 layered model RMSE :  19532.493542812193\n"
     ]
    }
   ],
   "source": [
    "# Convert DataFrames to numpy arrays before creating tensors\n",
    "X_test_tensor = torch.tensor(X_test.values, dtype=torch.float32)\n",
    "Y_test_tensor = torch.tensor(y_test.values, dtype=torch.float32).squeeze(1)\n",
    "\n",
    "X_train_tensor = torch.tensor(X_train.values, dtype=torch.float32)\n",
    "Y_train_tensor = torch.tensor(y_train.values, dtype=torch.float32).squeeze(1)\n",
    "\n",
    "# Create a Dataset and DataLoader\n",
    "full_dataset = torch.utils.data.TensorDataset(X_train_tensor, Y_train_tensor)\n",
    "full_loader = torch.utils.data.DataLoader(full_dataset, batch_size=32, shuffle=True)\n",
    "\n",
    "# Training loop\n",
    "def train_full_model(model, loader, epochs=500, lr=1e-3):\n",
    "    opt = torch.optim.Adam(model.parameters(), lr=lr)\n",
    "    loss_fn = torch.nn.MSELoss()\n",
    "    for epoch in range(epochs):\n",
    "        model.train()\n",
    "        for xb, yb in loader:\n",
    "            opt.zero_grad()\n",
    "            pred = model(xb).squeeze(1)\n",
    "            loss = loss_fn(pred, yb)\n",
    "            loss.backward()\n",
    "            opt.step()\n",
    "    return model\n",
    "\n",
    "# Train the model\n",
    "neural_model = model4()\n",
    "neural_model = train_full_model(neural_model, full_loader, epochs=500, lr=1e-3)\n",
    "\n",
    "neural_model.eval()\n",
    "with torch.no_grad():\n",
    "    p=neural_model(X_test_tensor).squeeze(1)\n",
    "    mse = torch.mean((p - Y_test_tensor)**2)\n",
    "    se = np.sqrt(mse.item())\n",
    "print(\"3 layered model RMSE : \", se)"
   ]
  },
  {
   "cell_type": "code",
   "execution_count": 18,
   "id": "460430d7",
   "metadata": {},
   "outputs": [
    {
     "name": "stdout",
     "output_type": "stream",
     "text": [
      "Linear regression model pediction :  19556.846760237382\n"
     ]
    }
   ],
   "source": [
    "model1.fit(X_train,y_train)\n",
    "preds = model1.predict(X_test)\n",
    "rms = np.sqrt(np.mean((preds-y_test)**2))\n",
    "print(\"Linear regression model pediction : \", rms)\n"
   ]
  },
  {
   "cell_type": "code",
   "execution_count": 20,
   "id": "901d16c5",
   "metadata": {},
   "outputs": [
    {
     "name": "stdout",
     "output_type": "stream",
     "text": [
      "3-layer model MAPE (%): 21.06\n"
     ]
    }
   ],
   "source": [
    "# Calculate Mean Absolute Percentage Error (MAPE) for 3-layer model predictions\n",
    "def mean_absolute_percentage_error(y_true, y_pred):\n",
    "    y_true = np.array(y_true).ravel()\n",
    "    y_pred = np.array(y_pred).ravel()\n",
    "    mask = y_true != 0\n",
    "    return np.mean(np.abs((y_true[mask] - y_pred[mask]) / y_true[mask])) * 100\n",
    "\n",
    "# Get predictions from the 3-layer neural model\n",
    "neural_model.eval()\n",
    "with torch.no_grad():\n",
    "    preds_3layer = neural_model(X_test_tensor).squeeze(1).cpu().numpy()\n",
    "\n",
    "mape_3layer = mean_absolute_percentage_error(y_test.values, preds_3layer)\n",
    "print(f\"3-layer model MAPE (%): {mape_3layer:.2f}\")"
   ]
  },
  {
   "cell_type": "code",
   "execution_count": null,
   "id": "b79ecacc",
   "metadata": {},
   "outputs": [],
   "source": []
  }
 ],
 "metadata": {
  "kernelspec": {
   "display_name": "Python 3",
   "language": "python",
   "name": "python3"
  },
  "language_info": {
   "codemirror_mode": {
    "name": "ipython",
    "version": 3
   },
   "file_extension": ".py",
   "mimetype": "text/x-python",
   "name": "python",
   "nbconvert_exporter": "python",
   "pygments_lexer": "ipython3",
   "version": "3.13.1"
  }
 },
 "nbformat": 4,
 "nbformat_minor": 5
}
