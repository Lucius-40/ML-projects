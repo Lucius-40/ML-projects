{
 "cells": [
  {
   "cell_type": "markdown",
   "id": "79b4a42b",
   "metadata": {},
   "source": [
    "Here, we will try to predict prices, data has been explored already "
   ]
  },
  {
   "cell_type": "code",
   "execution_count": 276,
   "id": "b02ec92d",
   "metadata": {},
   "outputs": [],
   "source": [
    "import pandas as pd \n",
    "import numpy as np\n",
    "import matplotlib.pyplot as plt\n",
    "import seaborn as sns\n",
    "from sklearn.base import BaseEstimator, TransformerMixin\n",
    "from scipy.stats import yeojohnson\n",
    "from sklearn.preprocessing import StandardScaler, MinMaxScaler\n",
    "from scipy.stats import shapiro\n",
    "from sklearn.preprocessing import OneHotEncoder\n",
    "from sklearn.pipeline import Pipeline\n",
    "from sklearn.model_selection import train_test_split\n",
    "import warnings\n",
    "warnings.filterwarnings('ignore')"
   ]
  },
  {
   "cell_type": "code",
   "execution_count": 277,
   "id": "0681d185",
   "metadata": {},
   "outputs": [
    {
     "name": "stdout",
     "output_type": "stream",
     "text": [
      "(1273, 12)\n"
     ]
    }
   ],
   "source": [
    "df = pd.read_csv('laptopData.csv')\n",
    "df.drop_duplicates(inplace=True)\n",
    "df.dropna(inplace=True)\n",
    "print(df.shape)"
   ]
  },
  {
   "cell_type": "markdown",
   "id": "ef9071d2",
   "metadata": {},
   "source": [
    "Column Selector"
   ]
  },
  {
   "cell_type": "code",
   "execution_count": 278,
   "id": "4b896481",
   "metadata": {},
   "outputs": [],
   "source": [
    "class ColumnSelector(BaseEstimator, TransformerMixin):\n",
    "    def __init__(self, cols):\n",
    "        self.columns = cols\n",
    "    def fit(self, X, y=None):\n",
    "        return self \n",
    "    def transform(self, X, y=None):\n",
    "        X = X[self.columns]\n",
    "        return X \n",
    "    def fit_transform(self, X, y = None):\n",
    "        return self.transform(X)\n",
    "        "
   ]
  },
  {
   "cell_type": "markdown",
   "id": "954ad4d4",
   "metadata": {},
   "source": [
    "Fixing data type :"
   ]
  },
  {
   "cell_type": "code",
   "execution_count": 279,
   "id": "273077d7",
   "metadata": {},
   "outputs": [],
   "source": [
    "class DataTypeFixer(BaseEstimator, TransformerMixin):\n",
    "    def __init__(self, cols =None):\n",
    "        self.cols = cols \n",
    "    def fit(self, X , y=None):\n",
    "        return self \n",
    "    def transform(self, X, y=None):\n",
    "        X_copy = X.copy()\n",
    "        for col in self.cols:\n",
    "            if col == \"Inches\":\n",
    "                X_copy['Inches']= pd.to_numeric(X_copy['Inches'], errors='coerce').astype('float32')\n",
    "                X_copy['Inches']=X_copy['Inches'].fillna(X_copy['Inches'].mean())\n",
    "                X_copy['Inches']=X_copy['Inches'].apply(lambda x : float(x/2.54) if x > 17.5 else x)\n",
    "            elif col == \"Ram\" :\n",
    "                X_copy['Ram']= pd.to_numeric(X_copy['Ram'].str.replace('GB','').str.strip(), errors='coerce')\n",
    "                X_copy['Ram']= X_copy['Ram'].fillna(X_copy['Ram'].mean()).astype('int32')\n",
    "            elif col == \"Weight\":\n",
    "                X_copy['Weight']= pd.to_numeric(X_copy['Weight'].str.replace('kg','').str.strip(),errors='coerce').astype('float32')\n",
    "                X_copy['Weight'].fillna(X_copy['Weight'].mean(), inplace=True)\n",
    "        return X_copy\n",
    "    def fit_transform(self, X, y = None):\n",
    "        return self.transform(X)\n"
   ]
  },
  {
   "cell_type": "markdown",
   "id": "3c712ea6",
   "metadata": {},
   "source": [
    "Feature Extraction"
   ]
  },
  {
   "cell_type": "code",
   "execution_count": 280,
   "id": "989529ce",
   "metadata": {},
   "outputs": [],
   "source": [
    "class FeatureExtract(BaseEstimator, TransformerMixin):\n",
    "    def __init__(self, cols =None):\n",
    "        self.cols = cols \n",
    "    def fit(self, X , y=None):\n",
    "        return self \n",
    "    \n",
    "    def extract_memory_feat(self, df):\n",
    "        import re\n",
    "        import numpy as np\n",
    "        # Helper function to extract storage sizes\n",
    "        def parse_storage(mem_str):\n",
    "            ssd = hdd = flash = 0\n",
    "            if not isinstance(mem_str, str):\n",
    "                return ssd, hdd, flash\n",
    "            # Replace TB with 1000GB for easier parsing\n",
    "            mem_str = mem_str.replace('TB', '000GB')\n",
    "            # Find all (size, type) pairs\n",
    "            matches = re.findall(r'(\\d+)GB\\s*(SSD|HDD|Flash|Flash Storage)', mem_str)\n",
    "            for size, stype in matches:\n",
    "                size = int(size)\n",
    "                if 'SSD' in stype:\n",
    "                    ssd += size\n",
    "                elif 'HDD' in stype:\n",
    "                    hdd += size\n",
    "                elif 'Flash' in stype:\n",
    "                    flash += size\n",
    "            return ssd, hdd, flash\n",
    "        \n",
    "        df['SSD'], df['HDD'], df['Flash'] = zip(*df['Memory'].map(parse_storage))\n",
    "        return df\n",
    "    \n",
    "    # ...existing code for other extractors...\n",
    "    def fetch_processor(self, text):\n",
    "        if text in ['Intel Core i7', 'Intel Core i5', 'Intel Core i3']:\n",
    "            return text\n",
    "        elif isinstance(text, str) and text.split()[0] == 'Intel':\n",
    "            return 'Other Intel Processor'\n",
    "        else:\n",
    "            return 'AMD Processor'\n",
    "    \n",
    "    def extract_cpu_feat(self, df):\n",
    "        cpu_speed_pattern = r'\\b\\d+(?:\\.\\d+)?(?:GHz|Hz)\\b'\n",
    "        df['CPU speed']= pd.to_numeric(df['Cpu'].str.findall(cpu_speed_pattern).str.get(0).str.split('G').str.get(0), errors='coerce')\n",
    "        # Ensure column is string type before applying split\n",
    "        df['Cpu'] = df['Cpu'].astype(str)\n",
    "        df['Cpu Name'] = df['Cpu'].apply(lambda x: \" \".join(x.split()[0:3]) if isinstance(x, str) else \"Unknown\")\n",
    "        df['CPU type'] = df['Cpu Name'].apply(self.fetch_processor)\n",
    "        df.drop(columns=[ 'Cpu Name'], inplace= True)\n",
    "        return df \n",
    "\n",
    "    def extract_resolution_feat(self,df):\n",
    "        pattern = r'(\\d{3,4}x\\d{2,4})'\n",
    "        res = df['ScreenResolution'].str.extract(pattern)\n",
    "        res_splt = res[0].str.split('x', n=1, expand=True)\n",
    "        res_splt.columns = [\"X res\", \"Y res\"]\n",
    "        df[\"X res\"]= pd.to_numeric(res_splt['X res'], errors='coerce')\n",
    "        df[\"X res\"]= df[\"X res\"].fillna(df[\"X res\"].mean()).astype('int32')\n",
    "        df[\"Y res\"]= pd.to_numeric(res_splt['Y res'], errors='coerce')\n",
    "        df[\"Y res\"]= df[\"Y res\"].fillna(df[\"Y res\"].mean()).astype('int32')\n",
    "        df['IPS']= df['ScreenResolution'].apply(lambda x : 1 if 'IPS' in x else 0)\n",
    "        df['Touchscreen']= df['ScreenResolution'].apply(lambda x : 1 if 'Touchscreen' in x else 0)\n",
    "        df['PPI']= (np.sqrt((df['X res']**2)+(df['Y res']**2))/df['Inches'])\n",
    "        df.drop(columns=['X res', 'Y res'], inplace=True)\n",
    "        return df \n",
    "\n",
    "    def fetch_OS(self , text):\n",
    "        if text in ['macOS', 'Mac OS X']:\n",
    "            return \"Mac\"\n",
    "        elif 'Windows' in text :\n",
    "            return 'Windows'\n",
    "        else :\n",
    "            return \"Others\"\n",
    "     \n",
    "    def extract_OS(self, df):\n",
    "        df[\"Operating System\"]= df['OpSys'].apply(self.fetch_OS)\n",
    "        return df \n",
    "    \n",
    "    def extract_gpu(self , df):\n",
    "        df['Gpu'] = df['Gpu'].apply(lambda x: x.split()[0] if isinstance(x, str) else \"Unknown\")\n",
    "        return df\n",
    "    \n",
    "    def transform(self, X, y=None):\n",
    "        X_copy = X.copy()\n",
    "        for col in self.cols :\n",
    "            if col == \"Gpu\":\n",
    "                X_copy = self.extract_gpu(X_copy)\n",
    "            elif col == \"Memory\":\n",
    "                X_copy = self.extract_memory_feat(X_copy)\n",
    "            elif col == \"OpSys\":\n",
    "                X_copy = self.extract_OS(X_copy)\n",
    "            elif col == \"ScreenResolution\":\n",
    "                X_copy = self.extract_resolution_feat(X_copy)\n",
    "            elif col == \"Cpu\":\n",
    "                X_copy = self.extract_cpu_feat(X_copy)\n",
    "        return X_copy\n",
    "\n",
    "    def fit_transform(self, X, y = None):\n",
    "        return self.transform(X)\n"
   ]
  },
  {
   "cell_type": "markdown",
   "id": "260ae3b3",
   "metadata": {},
   "source": [
    "Skew Fixer :"
   ]
  },
  {
   "cell_type": "code",
   "execution_count": 281,
   "id": "157e56b1",
   "metadata": {},
   "outputs": [],
   "source": [
    "class SkewFixer(BaseEstimator, TransformerMixin):\n",
    "    def __init__(self, cols =None, skew_threshold_left = -1, skew_threshold_right = 1):\n",
    "        self.cols = cols \n",
    "        self.skew_threshold_left = skew_threshold_left \n",
    "        self.skew_threshold_right = skew_threshold_right\n",
    "        self.skewed = []\n",
    "    def fit(self, X , y=None):\n",
    "        if self.cols is None :\n",
    "            self.cols = X.select_dtypes(include=[np.number]).columns\n",
    "        for col in self.cols:\n",
    "            sk = X[col].skew()\n",
    "            if sk > self.skew_threshold_right or sk < self.skew_threshold_left:\n",
    "                self.skewed.append(col)\n",
    "\n",
    "        return self ; \n",
    "\n",
    "        \n",
    "    def transform(self, X, y=None):\n",
    "        X_copy = X.copy()\n",
    "        for col in self.skewed :\n",
    "            X_copy[col], _ = yeojohnson(X_copy[col])\n",
    "        return X_copy\n",
    "\n",
    "        \n",
    "    def fit_transform(self, X, y = None):\n",
    "        return self.transform(X)\n"
   ]
  },
  {
   "cell_type": "markdown",
   "id": "82e8ad1c",
   "metadata": {},
   "source": [
    "Company grouping :"
   ]
  },
  {
   "cell_type": "code",
   "execution_count": 282,
   "id": "97f7d8e2",
   "metadata": {},
   "outputs": [],
   "source": [
    "# Merge sub-brands\n",
    "df['Company'] = df['Company'].replace({'Vero': 'Acer'})\n",
    "\n",
    "# Group companies with < 5 entries into 'Other'\n",
    "company_counts = df['Company'].value_counts()\n",
    "rare_companies = company_counts[company_counts < 5].index\n",
    "df['Company'] = df['Company'].replace(rare_companies, 'Other')"
   ]
  },
  {
   "cell_type": "markdown",
   "id": "28fdfabe",
   "metadata": {},
   "source": [
    "Scaling :\n"
   ]
  },
  {
   "cell_type": "code",
   "execution_count": 283,
   "id": "18b74859",
   "metadata": {},
   "outputs": [],
   "source": [
    "class Scaler(BaseEstimator, TransformerMixin):\n",
    "    def __init__(self, cols ):\n",
    "        self.cols = cols\n",
    "        self.scalers={} \n",
    "    \n",
    "    def fit(self , X , y=None):\n",
    "        for col in self.cols :\n",
    "            stat , p = shapiro(X[col])\n",
    "            if p > 0.05:\n",
    "                scaler = StandardScaler()\n",
    "            else :\n",
    "                scaler = MinMaxScaler()\n",
    "            scaler.fit(X[[col]])  # <-- Ensure DataFrame input\n",
    "            self.scalers[col]=scaler \n",
    "        return self \n",
    "    \n",
    "    def transform(self , X , y=None):\n",
    "        X_copy = X.copy()\n",
    "        for col in self.cols :\n",
    "            X_copy[col]= self.scalers[col].transform(X_copy[[col]]).flatten()  # <-- Ensure DataFrame input\n",
    "        return X_copy\n",
    "    \n",
    "    def fit_transform(self, X, y = None):\n",
    "        self.fit(X, y)\n",
    "        return self.transform(X)\n"
   ]
  },
  {
   "cell_type": "markdown",
   "id": "1bf29f63",
   "metadata": {},
   "source": [
    "One hot Encoding the categorical columns :"
   ]
  },
  {
   "cell_type": "code",
   "execution_count": 284,
   "id": "2fd2199a",
   "metadata": {},
   "outputs": [],
   "source": [
    "class OneHot(BaseEstimator, TransformerMixin):\n",
    "    def __init__(self, cols):\n",
    "        self.cols = cols\n",
    "        self.encoder = None \n",
    "        self.columnNames = None\n",
    "\n",
    "    def fit(self , X , y=None):\n",
    "        self.encoder = OneHotEncoder(sparse_output=False, drop='first')\n",
    "        self.encoder.fit(X[self.cols])\n",
    "        self.column_names = self.encoder.get_feature_names_out(self.cols)\n",
    "        return self\n",
    "    \n",
    "    def transform(self , X , y=None):\n",
    "        X_copy = X.copy()\n",
    "        encoded = self.encoder.transform(X_copy[self.cols])\n",
    "        encodedDF = pd.DataFrame(encoded, columns=self.column_names, index=X_copy.index)\n",
    "        X_copy.drop(columns=self.cols, inplace=True)\n",
    "\n",
    "        X_copy= pd.concat([X_copy, encodedDF], axis=1)\n",
    "\n",
    "        return X_copy\n",
    "    \n",
    "    def fit_transform(self, X, y = None):\n",
    "        self.fit(X, y)\n",
    "        return self.transform(X)\n"
   ]
  },
  {
   "cell_type": "markdown",
   "id": "0312a8e0",
   "metadata": {},
   "source": [
    "Dropper :"
   ]
  },
  {
   "cell_type": "code",
   "execution_count": 285,
   "id": "504561aa",
   "metadata": {},
   "outputs": [],
   "source": [
    "class DropColumnsTransformer(BaseEstimator, TransformerMixin):\n",
    "\n",
    "    def __init__(self, cols=None):\n",
    "        self.cols = cols\n",
    "    \n",
    "    def fit(self, X, y=None):\n",
    "        return self\n",
    "    \n",
    "    def transform(self, X):\n",
    "        if self.cols is None:\n",
    "            return X\n",
    "        else:\n",
    "            return X.drop(self.cols,axis=1)\n",
    "       \n",
    "    def fit_transform(self, X, y = None):\n",
    "        self.fit(X, y)\n",
    "        return self.transform(X)"
   ]
  },
  {
   "cell_type": "code",
   "execution_count": 286,
   "id": "c722cef5",
   "metadata": {},
   "outputs": [],
   "source": [
    "class Full_pipeline:\n",
    "    def __init__(self):\n",
    "        self.allcols= ['Company', 'TypeName', 'Inches', 'ScreenResolution', 'Cpu', 'Ram',\n",
    "                         'Memory', 'Gpu', 'OpSys', 'Weight']\n",
    "        \n",
    "        # Remove 'Gpu' from drop_cols to avoid KeyError\n",
    "        self.drop_cols = ['ScreenResolution', 'Cpu', 'Memory', 'OpSys', 'Inches']\n",
    "        \n",
    "        self.encode_cols = ['TypeName', 'Company', 'CPU type', 'Gpu', \"Operating System\"]\n",
    "        scaling_features = [\n",
    "            'Inches',\n",
    "            'Weight',\n",
    "            'Ram',\n",
    "            'PPI',\n",
    "            'HDD',\n",
    "            'SSD',\n",
    "            'Flash',\n",
    "            'CPU speed']\n",
    "        \n",
    "        self.full_pipeline= Pipeline([\n",
    "            ('Column selector', ColumnSelector(cols=self.allcols)),\n",
    "            (\"fix\", DataTypeFixer(cols=['Inches', 'Weight', 'Ram'])),\n",
    "            (\"Extract\", FeatureExtract(cols=['Gpu', 'Cpu', 'Memory', 'ScreenResolution','OpSys'])),\n",
    "            (\"fix skew\",SkewFixer(cols=['PPI', 'Weight', 'Ram','HDD', 'SSD',\"Flash\",'CPU speed' ])),\n",
    "            ('onehot', OneHot(cols=self.encode_cols)),\n",
    "            (\"scale\", Scaler(cols=scaling_features )),\n",
    "            ('dropper', DropColumnsTransformer(cols=self.drop_cols))\n",
    "        ])\n",
    "        \n",
    "        self.y_pipeline = Pipeline([\n",
    "            ('selector', ColumnSelector(cols=['Price'])),\n",
    "            ('power_transformation', SkewFixer(cols=['Price'])),\n",
    "            ('scaling', Scaler(cols=['Price']))\n",
    "        ])\n",
    "    \n",
    "    def fit_transform(self, X_train, y_train):\n",
    "        X_train = self.full_pipeline.fit_transform(X_train)\n",
    "        y_train = self.y_pipeline.fit_transform(y_train)\n",
    "        return X_train, y_train\n",
    "    \n",
    "    def transform(self, X_test, y_test):\n",
    "        X_test = self.full_pipeline.transform(X_test)\n",
    "        y_test = self.y_pipeline.transform(y_test)\n",
    "        return X_test, y_test"
   ]
  },
  {
   "cell_type": "markdown",
   "id": "ddede403",
   "metadata": {},
   "source": [
    "Now we split and preprocess the data !!"
   ]
  },
  {
   "cell_type": "code",
   "execution_count": 287,
   "id": "b71dc756",
   "metadata": {},
   "outputs": [],
   "source": [
    "X = df.drop(columns=['Price'])\n",
    "Y = df['Price']\n",
    "X_train, X_test, y_train, y_test = train_test_split(X, Y, test_size=0.15, random_state=42)"
   ]
  },
  {
   "cell_type": "code",
   "execution_count": 288,
   "id": "8c1d61c7",
   "metadata": {},
   "outputs": [
    {
     "name": "stdout",
     "output_type": "stream",
     "text": [
      "950                  8GB SSD\n",
      "1121               256GB SSD\n",
      "1292               500GB HDD\n",
      "1247    256GB SSD +  1TB HDD\n",
      "306                256GB SSD\n",
      "838       16GB Flash Storage\n",
      "863                  1TB HDD\n",
      "1229    128GB SSD +  1TB HDD\n",
      "1029               256GB SSD\n",
      "361                256GB SSD\n",
      "Name: Memory, dtype: object\n"
     ]
    },
    {
     "name": "stdout",
     "output_type": "stream",
     "text": [
      "           SSD   HDD    Flash\n",
      "950   0.007812  0.00  0.00000\n",
      "1121  0.250000  0.00  0.00000\n",
      "1292  0.000000  0.25  0.00000\n",
      "1247  0.250000  0.50  0.00000\n",
      "306   0.250000  0.00  0.00000\n",
      "838   0.000000  0.00  0.03125\n",
      "863   0.000000  0.50  0.00000\n",
      "1229  0.125000  0.50  0.00000\n",
      "1029  0.250000  0.00  0.00000\n",
      "361   0.250000  0.00  0.00000\n"
     ]
    }
   ],
   "source": [
    "# Show sample Memory values before feature extraction\n",
    "print(X_train['Memory'].head(10))\n",
    "full_pipeline1 = Full_pipeline()\n",
    "y_train_df = pd.DataFrame(y_train)\n",
    "X_train_pre, y_train_pre = full_pipeline1.fit_transform(X_train, y_train_df)\n",
    "# Show SSD, HDD, Flash after feature extraction\n",
    "print(X_train_pre[['SSD', 'HDD', 'Flash']].head(10))"
   ]
  },
  {
   "cell_type": "code",
   "execution_count": 289,
   "id": "877cb039",
   "metadata": {},
   "outputs": [
    {
     "name": "stdout",
     "output_type": "stream",
     "text": [
      "               Ram       Weight    CPU speed          SSD          HDD  \\\n",
      "count  1082.000000  1082.000000  1082.000000  1082.000000  1082.000000   \n",
      "mean      0.119194     0.133377     0.518847     0.178424     0.205928   \n",
      "std       0.090614     0.077881     0.187059     0.183263     0.257735   \n",
      "min       0.000000     0.000000     0.000000     0.000000     0.000000   \n",
      "25%       0.047619     0.081652     0.407407     0.000000     0.000000   \n",
      "50%       0.111111     0.129683     0.592593     0.150391     0.000000   \n",
      "75%       0.111111     0.155379     0.666667     0.250000     0.500000   \n",
      "max       1.000000     1.000000     1.000000     1.000000     1.000000   \n",
      "\n",
      "             Flash          IPS  Touchscreen          PPI  TypeName_Gaming  \\\n",
      "count  1082.000000  1082.000000  1082.000000  1082.000000      1082.000000   \n",
      "mean      0.009993     0.284658     0.144177     0.214326         0.160813   \n",
      "std       0.064361     0.451460     0.351432     0.165118         0.367529   \n",
      "min       0.000000     0.000000     0.000000     0.000000         0.000000   \n",
      "25%       0.000000     0.000000     0.000000     0.140339         0.000000   \n",
      "50%       0.000000     0.000000     0.000000     0.193326         0.000000   \n",
      "75%       0.000000     1.000000     0.000000     0.254951         0.000000   \n",
      "max       1.000000     1.000000     1.000000     1.000000         1.000000   \n",
      "\n",
      "       ...  Company_Toshiba  CPU type_Intel Core i3  CPU type_Intel Core i5  \\\n",
      "count  ...      1082.000000             1082.000000             1082.000000   \n",
      "mean   ...         0.036969                0.107209                0.317930   \n",
      "std    ...         0.188772                0.309522                0.465887   \n",
      "min    ...         0.000000                0.000000                0.000000   \n",
      "25%    ...         0.000000                0.000000                0.000000   \n",
      "50%    ...         0.000000                0.000000                0.000000   \n",
      "75%    ...         0.000000                0.000000                1.000000   \n",
      "max    ...         1.000000                1.000000                1.000000   \n",
      "\n",
      "       CPU type_Intel Core i7  CPU type_Other Intel Processor      Gpu_ARM  \\\n",
      "count             1082.000000                     1082.000000  1082.000000   \n",
      "mean                 0.407579                        0.118299     0.000924   \n",
      "std                  0.491611                        0.323112     0.030401   \n",
      "min                  0.000000                        0.000000     0.000000   \n",
      "25%                  0.000000                        0.000000     0.000000   \n",
      "50%                  0.000000                        0.000000     0.000000   \n",
      "75%                  1.000000                        0.000000     0.000000   \n",
      "max                  1.000000                        1.000000     1.000000   \n",
      "\n",
      "         Gpu_Intel   Gpu_Nvidia  Operating System_Others  \\\n",
      "count  1082.000000  1082.000000              1082.000000   \n",
      "mean      0.552680     0.304991                 0.116451   \n",
      "std       0.497447     0.460616                 0.320913   \n",
      "min       0.000000     0.000000                 0.000000   \n",
      "25%       0.000000     0.000000                 0.000000   \n",
      "50%       1.000000     0.000000                 0.000000   \n",
      "75%       1.000000     1.000000                 0.000000   \n",
      "max       1.000000     1.000000                 1.000000   \n",
      "\n",
      "       Operating System_Windows  \n",
      "count               1082.000000  \n",
      "mean                   0.866913  \n",
      "std                    0.339826  \n",
      "min                    0.000000  \n",
      "25%                    1.000000  \n",
      "50%                    1.000000  \n",
      "75%                    1.000000  \n",
      "max                    1.000000  \n",
      "\n",
      "[8 rows x 35 columns]\n"
     ]
    }
   ],
   "source": [
    "print(X_train_pre.describe())\n"
   ]
  },
  {
   "cell_type": "markdown",
   "id": "f3b17e9b",
   "metadata": {},
   "source": [
    "Data is cleaned , Now Need to make the models "
   ]
  },
  {
   "cell_type": "code",
   "execution_count": null,
   "id": "f6a45f6f",
   "metadata": {},
   "outputs": [],
   "source": []
  }
 ],
 "metadata": {
  "kernelspec": {
   "display_name": "Python 3",
   "language": "python",
   "name": "python3"
  },
  "language_info": {
   "codemirror_mode": {
    "name": "ipython",
    "version": 3
   },
   "file_extension": ".py",
   "mimetype": "text/x-python",
   "name": "python",
   "nbconvert_exporter": "python",
   "pygments_lexer": "ipython3",
   "version": "3.13.1"
  }
 },
 "nbformat": 4,
 "nbformat_minor": 5
}
