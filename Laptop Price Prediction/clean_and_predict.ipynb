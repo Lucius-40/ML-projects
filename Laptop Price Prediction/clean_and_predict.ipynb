{
 "cells": [
  {
   "cell_type": "markdown",
   "id": "79b4a42b",
   "metadata": {},
   "source": [
    "Here, we will try to predict prices, data has been explored already "
   ]
  },
  {
   "cell_type": "code",
   "execution_count": 1,
   "id": "b02ec92d",
   "metadata": {},
   "outputs": [],
   "source": [
    "import pandas as pd \n",
    "import numpy as np\n",
    "import matplotlib.pyplot as plt\n",
    "import seaborn as sns\n",
    "from sklearn.base import BaseEstimator, TransformerMixin\n"
   ]
  },
  {
   "cell_type": "markdown",
   "id": "ef9071d2",
   "metadata": {},
   "source": [
    "Column Selector"
   ]
  },
  {
   "cell_type": "code",
   "execution_count": 2,
   "id": "4b896481",
   "metadata": {},
   "outputs": [],
   "source": [
    "class ColumnSelector(BaseEstimator, TransformerMixin):\n",
    "    def __init__(self, cols):\n",
    "        self.columns = cols\n",
    "    def fit(self, X, y=None):\n",
    "        return self \n",
    "    def transform(self, X, y=None):\n",
    "        X = X[self.columns]\n",
    "        return X \n",
    "    def fit_transform(self, X, y = None):\n",
    "        return self.transform(X)\n",
    "        "
   ]
  },
  {
   "cell_type": "markdown",
   "id": "954ad4d4",
   "metadata": {},
   "source": [
    "Fixing data type :"
   ]
  },
  {
   "cell_type": "code",
   "execution_count": 3,
   "id": "273077d7",
   "metadata": {},
   "outputs": [],
   "source": [
    "class DataTypeFixer(BaseEstimator, TransformerMixin):\n",
    "    def __init__(self, cols =None):\n",
    "        self.cols = cols \n",
    "    def fit(self, X , y=None):\n",
    "        return self \n",
    "    def transform(self, X, y=None):\n",
    "        X_copy = X.copy()\n",
    "        for col in self.cols:\n",
    "            if col == \"Inches\":\n",
    "                X_copy['Inches']= pd.to_numeric(X_copy['Inches'], errors='coerce').astype('float32')\n",
    "                X_copy['Inches']=X_copy['Inches'].fillna(X_copy['Inches'].mean())\n",
    "                X_copy['Inches']=X_copy['Inches'].apply(lambda x : float(x/2.54) if x > 17.5 else x)\n",
    "            elif col == \"Ram\" :\n",
    "                X_copy['Ram']= pd.to_numeric(X_copy['Ram'].str.replace('GB','').str.strip(), errors='coerce').astype('int32')\n",
    "            elif col == \"Weight\":\n",
    "                X_copy['Weight']= pd.to_numeric(X_copy['Weight'].str.replace('kg','').str.strip(),errors='coerce').astype('float32')\n",
    "                X_copy['Weight'].fillna(X_copy['Weight'].mean(), inplace=True)\n",
    "        return X_copy\n",
    "    def fit_transform(self, X, y = None):\n",
    "        return self.transform(X)\n",
    "\n",
    "        "
   ]
  },
  {
   "cell_type": "markdown",
   "id": "3c712ea6",
   "metadata": {},
   "source": [
    "Feature Extraction"
   ]
  },
  {
   "cell_type": "code",
   "execution_count": null,
   "id": "989529ce",
   "metadata": {},
   "outputs": [],
   "source": [
    "class FeatureExtract(BaseEstimator, TransformerMixin):\n",
    "    def __init__(self, cols =None):\n",
    "        self.cols = cols \n",
    "    def fit(self, X , y=None):\n",
    "        return self \n",
    "    \n",
    "    def extract_memory_feat(self, df):\n",
    "        df['Memory']= df['Memory'].str.replace('\\.0','',regex=True).str.strip()\n",
    "        df['Memory']=df['Memory'].str.replace('GB','',regex=True).str.strip()\n",
    "        df['Memory']=df['Memory'].str.replace('TB','000',regex=True).str.strip()\n",
    "        \n",
    "    \n",
    "\n",
    "\n",
    "\n",
    "    def transform(self, X, y=None):\n",
    "        X_copy = X.copy()\n",
    "        for col in self.cols:\n",
    "            if col == \"Inches\":\n",
    "                X_copy['Inches']= pd.to_numeric(X_copy['Inches'], errors='coerce').astype('float32')\n",
    "                X_copy['Inches']=X_copy['Inches'].fillna(X_copy['Inches'].mean())\n",
    "                X_copy['Inches']=X_copy['Inches'].apply(lambda x : float(x/2.54) if x > 17.5 else x)\n",
    "            elif col == \"Ram\" :\n",
    "                X_copy['Ram']= pd.to_numeric(X_copy['Ram'].str.replace('GB','').str.strip(), errors='coerce').astype('int32')\n",
    "            elif col == \"Weight\":\n",
    "                X_copy['Weight']= pd.to_numeric(X_copy['Weight'].str.replace('kg','').str.strip(),errors='coerce').astype('float32')\n",
    "                X_copy['Weight'].fillna(X_copy['Weight'].mean(), inplace=True)\n",
    "        return X_copy\n",
    "    def fit_transform(self, X, y = None):\n",
    "        return self.transform(X)\n"
   ]
  }
 ],
 "metadata": {
  "kernelspec": {
   "display_name": "Python 3",
   "language": "python",
   "name": "python3"
  },
  "language_info": {
   "codemirror_mode": {
    "name": "ipython",
    "version": 3
   },
   "file_extension": ".py",
   "mimetype": "text/x-python",
   "name": "python",
   "nbconvert_exporter": "python",
   "pygments_lexer": "ipython3",
   "version": "3.13.1"
  }
 },
 "nbformat": 4,
 "nbformat_minor": 5
}
